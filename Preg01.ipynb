{
 "cells": [
  {
   "cell_type": "markdown",
   "id": "8b8dbf33",
   "metadata": {},
   "source": [
    "# PREGUNTA 01"
   ]
  },
  {
   "cell_type": "markdown",
   "id": "9f5feb85",
   "metadata": {},
   "source": [
    "Intercambiar valores de 2 variables"
   ]
  },
  {
   "cell_type": "code",
   "execution_count": 1,
   "id": "85961d5b",
   "metadata": {},
   "outputs": [],
   "source": [
    "A=8\n",
    "B=9\n",
    "A ,B = B,A"
   ]
  },
  {
   "cell_type": "code",
   "execution_count": 2,
   "id": "c6f5a989",
   "metadata": {},
   "outputs": [
    {
     "data": {
      "text/plain": [
       "9"
      ]
     },
     "execution_count": 2,
     "metadata": {},
     "output_type": "execute_result"
    }
   ],
   "source": [
    "A"
   ]
  },
  {
   "cell_type": "code",
   "execution_count": 3,
   "id": "c0003214",
   "metadata": {},
   "outputs": [
    {
     "data": {
      "text/plain": [
       "8"
      ]
     },
     "execution_count": 3,
     "metadata": {},
     "output_type": "execute_result"
    }
   ],
   "source": [
    "B"
   ]
  }
 ],
 "metadata": {
  "kernelspec": {
   "display_name": "Python 3 (ipykernel)",
   "language": "python",
   "name": "python3"
  },
  "language_info": {
   "codemirror_mode": {
    "name": "ipython",
    "version": 3
   },
   "file_extension": ".py",
   "mimetype": "text/x-python",
   "name": "python",
   "nbconvert_exporter": "python",
   "pygments_lexer": "ipython3",
   "version": "3.9.12"
  }
 },
 "nbformat": 4,
 "nbformat_minor": 5
}

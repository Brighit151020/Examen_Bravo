{
 "cells": [
  {
   "cell_type": "code",
   "execution_count": 1,
   "id": "0e98b948",
   "metadata": {},
   "outputs": [
    {
     "name": "stdout",
     "output_type": "stream",
     "text": [
      "Horas:\n",
      "2\n",
      "Importe a pagar = S/.  6\n"
     ]
    }
   ],
   "source": [
    "print(\"Horas:\")\n",
    "horas = int(input())\n",
    "\n",
    "if  horas <= 4:\n",
    "    print(\"Importe a pagar = S/. \" , 6)\n",
    "if horas > 4:\n",
    "    print(\"Importe a pagar = S/. \" , 6 + (horas-4)*2)"
   ]
  },
  {
   "cell_type": "code",
   "execution_count": 3,
   "id": "f7c28207",
   "metadata": {},
   "outputs": [
    {
     "name": "stdout",
     "output_type": "stream",
     "text": [
      "Horas:\n",
      "8\n",
      "Importe a pagar = S/.  14\n"
     ]
    }
   ],
   "source": [
    "print(\"Horas:\")\n",
    "horas = int(input())\n",
    "\n",
    "if  horas <= 4:\n",
    "    print(\"Importe a pagar = S/. \" , 6)\n",
    "if horas > 4:\n",
    "    print(\"Importe a pagar = S/. \" , 6 + (horas-4)*2)"
   ]
  },
  {
   "cell_type": "code",
   "execution_count": null,
   "id": "96406adf",
   "metadata": {},
   "outputs": [],
   "source": []
  }
 ],
 "metadata": {
  "kernelspec": {
   "display_name": "Python 3 (ipykernel)",
   "language": "python",
   "name": "python3"
  },
  "language_info": {
   "codemirror_mode": {
    "name": "ipython",
    "version": 3
   },
   "file_extension": ".py",
   "mimetype": "text/x-python",
   "name": "python",
   "nbconvert_exporter": "python",
   "pygments_lexer": "ipython3",
   "version": "3.9.12"
  }
 },
 "nbformat": 4,
 "nbformat_minor": 5
}

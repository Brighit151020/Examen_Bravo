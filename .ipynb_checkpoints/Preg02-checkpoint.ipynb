{
 "cells": [
  {
   "cell_type": "markdown",
   "id": "e51fe03b",
   "metadata": {},
   "source": [
    "# pregunta 02"
   ]
  },
  {
   "cell_type": "code",
   "execution_count": 1,
   "id": "b65b5984",
   "metadata": {},
   "outputs": [
    {
     "name": "stdout",
     "output_type": "stream",
     "text": [
      "n: 100\n",
      "Sumatoria:  5050\n"
     ]
    }
   ],
   "source": [
    "#Datos de entrada\n",
    "print(\"n: 100\")\n",
    "n=100\n",
    "sumatoria = 0\n",
    "for i in range(1, n+1):\n",
    "    sumatoria += i\n",
    "    \n",
    "#Datos de salida\n",
    "print(\"Sumatoria: \",sumatoria)"
   ]
  }
 ],
 "metadata": {
  "kernelspec": {
   "display_name": "Python 3 (ipykernel)",
   "language": "python",
   "name": "python3"
  },
  "language_info": {
   "codemirror_mode": {
    "name": "ipython",
    "version": 3
   },
   "file_extension": ".py",
   "mimetype": "text/x-python",
   "name": "python",
   "nbconvert_exporter": "python",
   "pygments_lexer": "ipython3",
   "version": "3.9.12"
  }
 },
 "nbformat": 4,
 "nbformat_minor": 5
}

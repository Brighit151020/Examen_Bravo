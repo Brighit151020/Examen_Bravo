{
 "cells": [
  {
   "cell_type": "code",
   "execution_count": 1,
   "id": "4b28eba2",
   "metadata": {},
   "outputs": [
    {
     "name": "stdout",
     "output_type": "stream",
     "text": [
      "Ganancia: \n",
      "2000\n",
      "Donación = S/. 160.0\n"
     ]
    }
   ],
   "source": [
    "print(\"Ganancia: \")\n",
    "ganancia = float(input())\n",
    "donacion= 0\n",
    "if 0 < ganancia <= 1000 :\n",
    "    print(\"Donación = S/.\",ganancia*0.05)\n",
    "if 1000 < ganancia <= 1500:\n",
    "        print(\"Donación = S/.\",ganancia*0.07)\n",
    "if 1500 < ganancia <= 2000:\n",
    "        print(\"Donación = S/.\",ganancia*0.08)\n",
    "if 2000 < ganancia <= 5000:\n",
    "        print(\"Donación = S/.\",ganancia*0.1)\n",
    "if 5000 < ganancia :\n",
    "        print(\"Donación = S/.\",ganancia*1.5)"
   ]
  },
  {
   "cell_type": "code",
   "execution_count": 2,
   "id": "ac4625b8",
   "metadata": {},
   "outputs": [
    {
     "name": "stdout",
     "output_type": "stream",
     "text": [
      "Ganancia: \n",
      "5000\n",
      "Donación = S/. 500.0\n"
     ]
    }
   ],
   "source": [
    "print(\"Ganancia: \")\n",
    "ganancia = float(input())\n",
    "donacion= 0\n",
    "if 0 < ganancia <= 1000 :\n",
    "    print(\"Donación = S/.\",ganancia*0.05)\n",
    "if 1000 < ganancia <= 1500:\n",
    "        print(\"Donación = S/.\",ganancia*0.07)\n",
    "if 1500 < ganancia <= 2000:\n",
    "        print(\"Donación = S/.\",ganancia*0.08)\n",
    "if 2000 < ganancia <= 5000:\n",
    "        print(\"Donación = S/.\",ganancia*0.1)\n",
    "if 5000 < ganancia :\n",
    "        print(\"Donación = S/.\",ganancia*1.5)"
   ]
  },
  {
   "cell_type": "code",
   "execution_count": 3,
   "id": "9cf5a3f0",
   "metadata": {},
   "outputs": [
    {
     "name": "stdout",
     "output_type": "stream",
     "text": [
      "Ganancia: \n",
      "1000\n",
      "Donación = S/. 50.0\n"
     ]
    }
   ],
   "source": [
    "print(\"Ganancia: \")\n",
    "ganancia = float(input())\n",
    "donacion= 0\n",
    "if 0 < ganancia <= 1000 :\n",
    "    print(\"Donación = S/.\",ganancia*0.05)\n",
    "if 1000 < ganancia <= 1500:\n",
    "        print(\"Donación = S/.\",ganancia*0.07)\n",
    "if 1500 < ganancia <= 2000:\n",
    "        print(\"Donación = S/.\",ganancia*0.08)\n",
    "if 2000 < ganancia <= 5000:\n",
    "        print(\"Donación = S/.\",ganancia*0.1)\n",
    "if 5000 < ganancia :\n",
    "        print(\"Donación = S/.\",ganancia*1.5)"
   ]
  },
  {
   "cell_type": "code",
   "execution_count": null,
   "id": "51c0e2b5",
   "metadata": {},
   "outputs": [],
   "source": []
  }
 ],
 "metadata": {
  "kernelspec": {
   "display_name": "Python 3 (ipykernel)",
   "language": "python",
   "name": "python3"
  },
  "language_info": {
   "codemirror_mode": {
    "name": "ipython",
    "version": 3
   },
   "file_extension": ".py",
   "mimetype": "text/x-python",
   "name": "python",
   "nbconvert_exporter": "python",
   "pygments_lexer": "ipython3",
   "version": "3.9.12"
  }
 },
 "nbformat": 4,
 "nbformat_minor": 5
}
